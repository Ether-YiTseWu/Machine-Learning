{
 "cells": [
  {
   "cell_type": "code",
   "execution_count": 9,
   "metadata": {},
   "outputs": [],
   "source": [
    "import re\n",
    "import os\n",
    "\n",
    "import numpy as np\n",
    "import pandas as pd"
   ]
  },
  {
   "cell_type": "code",
   "execution_count": 8,
   "metadata": {},
   "outputs": [
    {
     "name": "stdout",
     "output_type": "stream",
     "text": [
      "2Ccircle1.txt\n",
      "2Circle1.txt\n",
      "2Circle2.txt\n",
      "2CloseS.txt\n",
      "2CloseS2.txt\n",
      "2CloseS3.txt\n",
      "2cring.txt\n",
      "2CS.txt\n",
      "2Hcircle1.txt\n",
      "2ring.txt\n",
      "4satellite-6.txt\n",
      "5CloseS1.txt\n",
      "8OX.TXT\n",
      "C10D.TXT\n",
      "C3D.TXT\n",
      "IRIS.TXT\n",
      "Number.txt\n",
      "perceptron1.txt\n",
      "perceptron2.txt\n",
      "perceptron3.txt\n",
      "perceptron4.txt\n",
      "wine.txt\n",
      "xor.txt\n"
     ]
    }
   ],
   "source": [
    "# change txt to csv\n",
    "file = os.listdir(\"database\")\n",
    "\n",
    "for txt in file:\n",
    "    print(txt)\n",
    "    txtData = np.loadtxt('database/' + txt)\n",
    "    txtDF = pd.DataFrame(txtData)\n",
    "    csvName = txt[0:len(txt)-3] + 'csv'\n",
    "    txtDF.to_csv(csvName,index=False)"
   ]
  }
 ],
 "metadata": {
  "kernelspec": {
   "display_name": "Python 3",
   "language": "python",
   "name": "python3"
  },
  "language_info": {
   "codemirror_mode": {
    "name": "ipython",
    "version": 3
   },
   "file_extension": ".py",
   "mimetype": "text/x-python",
   "name": "python",
   "nbconvert_exporter": "python",
   "pygments_lexer": "ipython3",
   "version": "3.7.1"
  }
 },
 "nbformat": 4,
 "nbformat_minor": 2
}
